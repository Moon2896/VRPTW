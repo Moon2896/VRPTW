{
  "cells": [
    {
      "cell_type": "markdown",
      "metadata": {
        "id": "u36rNL7C5LlC"
      },
      "source": [
        "# Ant Colony Optimization"
      ]
    },
    {
      "cell_type": "markdown",
      "metadata": {
        "id": "dWuNr_gB3egB"
      },
      "source": [
        "Ant Colony Optimization (ACO) is a Swarm Intelligence (SI) algorithm that has been introduced as an approach to solve combinatorial optimization problems, such as routing problems.\n",
        "\n",
        "You may be already familiar with the Traveling Salesman Problem (TSP) where the goal is to find the shortest path traversing all nodes on a given graph. A generalization of the TSP is the Vehicle Routing Problem (VRP - or Truck Dispatching Problem as first introduced [1]) where the goal is to find the optimal set of routes for a fleet of vehicles to traverse in order to deliver to a given set of customers.\n",
        "\n",
        "ACO is inspired by the ants' foraging behaviour. Each ant (leaving the nest) performs a search towards a random direction until it finds a food source. Then, it returns to the nest. The path leading to the food source is \"marked\", because the ant leaves behind a trace of pheromone while exploring. The pheromone can be detected by other ants. Thus, it is more possible for other ants starting their search to follow this \"marked\" path, since the pheromone is indicating a food source exists in that direction. Every new ant following this path applies an additional layer of pheromone on it. As a result, the more ants traversing the path the more pheromone is applied to it. On the other hand, if no food source has been found the pheromone scent is decreased because pheromone is gradually evaporated.\n",
        "\n",
        "On the algorithmic equivalent, every agent (or candidate solution) is an ant performing a search in the solution space. The \"paths\" created by the agent denote a sequence of nodes. Below, you can see the application of the ACO concept on the simplest routing problem, i.e., the Traveling Salesman Problem (TSP).\n",
        "\n",
        "[1] Dantzig, G. B., & Ramser, J. H. (1959). The truck dispatching problem. *Management science*, 6(1), 80-91. https://doi.org/10.1287/mnsc.6.1.80"
      ]
    },
    {
      "cell_type": "markdown",
      "metadata": {
        "id": "7dGE8AViHDfw"
      },
      "source": [
        "### Traveling Salesman Problem (TSP)"
      ]
    },
    {
      "cell_type": "markdown",
      "metadata": {
        "id": "f0QCUkdp1J4o"
      },
      "source": [
        "This is a combinatorial problem depicted by a graph (a network), where the graph's nodes represent (a) depots and (b) customers.\n",
        "\n",
        "\n",
        "So, let's create a random graph:"
      ]
    },
    {
      "cell_type": "code",
      "execution_count": 1,
      "metadata": {
        "id": "M4GKfh_AgmXy"
      },
      "outputs": [
        {
          "name": "stdout",
          "output_type": "stream",
          "text": [
            "[[ 4.84879041  4.03614206]\n",
            " [-8.81179321  9.78985463]\n",
            " [ 7.69343835 -6.74259519]\n",
            " [-0.83125052  6.1791186 ]\n",
            " [-1.61172931  9.59448704]\n",
            " [-8.11615182  8.73385092]\n",
            " [ 5.83920462 -5.91117974]\n",
            " [ 6.79734825  2.52059537]\n",
            " [-5.1751159   3.965906  ]\n",
            " [-0.26415695 -9.20551666]]\n"
          ]
        }
      ],
      "source": [
        "import numpy as np\n",
        "import random\n",
        "\n",
        "# create n random nodes on a 20x20 grid\n",
        "nodes_number = 10\n",
        "nodes = []\n",
        "x = []\n",
        "y = []\n",
        "for _ in range(nodes_number):\n",
        "  x.append(random.uniform(-10, 10))\n",
        "  y.append(random.uniform(-10, 10))\n",
        "\n",
        "# convert lists to arrays to enable their manipulation with numpy\n",
        "x = np.array(x)\n",
        "y = np.array(y)\n",
        "\n",
        "# then, we can construct the \"matrix\" nodes containing each node's coordinates\n",
        "nodes = np.vstack((x,y))\n",
        "nodes = nodes.T\n",
        "print(nodes)"
      ]
    },
    {
      "cell_type": "markdown",
      "metadata": {
        "id": "ysW6uHVOUXOM"
      },
      "source": [
        "and by using `matplotlib` we will demonstrate the graph:"
      ]
    },
    {
      "cell_type": "code",
      "execution_count": 2,
      "metadata": {
        "id": "0uXrYjVh_Q8R"
      },
      "outputs": [
        {
          "data": {
            "image/png": "[encoded data removed]",
            "text/plain": [
              "<Figure size 432x288 with 1 Axes>"
            ]
          },
          "metadata": {
            "needs_background": "light"
          },
          "output_type": "display_data"
        }
      ],
      "source": [
        "import matplotlib.pyplot as plt\n",
        "\n",
        "plt.scatter(x,y)\n",
        "#plt.plot(x,y)\n",
        "plt.show()"
      ]
    },
    {
      "cell_type": "markdown",
      "metadata": {
        "id": "X1y7H5bWIYV2"
      },
      "source": [
        "The first thing we need is the distance matrix $[d_{ij}]$, including the distance between every $i$ and $j$ node."
      ]
    },
    {
      "cell_type": "code",
      "execution_count": 3,
      "metadata": {
        "id": "tL0fb3gyi0K7"
      },
      "outputs": [
        {
          "name": "stdout",
          "output_type": "stream",
          "text": [
            "[[ 0.         14.82284565 11.14778895  6.07084947  8.52252978 13.78978591\n",
            "   9.99650596  2.46855412 10.02415237 14.1944974 ]\n",
            " [14.82284565  0.         23.36117647  8.75936507  7.20271398  1.26453975\n",
            "  21.47496724 17.21881028  6.86613425 20.82993558]\n",
            " [11.14778895 23.36117647  0.         15.48034261 18.80123402 22.12382258\n",
            "   2.03210097  9.30643201 16.74131674  8.33002431]\n",
            " [ 6.07084947  8.75936507 15.48034261  0.          3.50341101  7.71987333\n",
            "  13.80834117  8.46051484  4.8751899  15.39508354]\n",
            " [ 8.52252978  7.20271398 18.80123402  3.50341101  0.          6.56111322\n",
            "  17.20296831 10.98874555  6.66173015 18.84823839]\n",
            " [13.78978591  1.26453975 22.12382258  7.71987333  6.56111322  0.\n",
            "  20.22940673 16.15602144  5.6020524  19.58251089]\n",
            " [ 9.99650596 21.47496724  2.03210097 13.80834117 17.20296831 20.22940673\n",
            "   0.          8.48603975 14.79432592  6.93568153]\n",
            " [ 2.46855412 17.21881028  9.30643201  8.46051484 10.98874555 16.15602144\n",
            "   8.48603975  0.         12.05938724 13.68819049]\n",
            " [10.02415237  6.86613425 16.74131674  4.8751899   6.66173015  5.6020524\n",
            "  14.79432592 12.05938724  0.         14.05716517]\n",
            " [14.1944974  20.82993558  8.33002431 15.39508354 18.84823839 19.58251089\n",
            "   6.93568153 13.68819049 14.05716517  0.        ]]\n"
          ]
        }
      ],
      "source": [
        "import numpy as np\n",
        "from scipy.spatial.distance import pdist\n",
        "from scipy.spatial.distance import squareform\n",
        "\n",
        "distanceMatrix = pdist(nodes)\n",
        "print(squareform(distanceMatrix))"
      ]
    },
    {
      "cell_type": "markdown",
      "metadata": {
        "id": "hWQ30jHdlWnL"
      },
      "source": [
        "To make it more presentable, we can print it as a dataframe using `pandas`"
      ]
    },
    {
      "cell_type": "code",
      "execution_count": 4,
      "metadata": {
        "id": "91q-2pWWSSHg"
      },
      "outputs": [
        {
          "data": {
            "text/html": [
              "<div>\n",
              "<style scoped>\n",
              "    .dataframe tbody tr th:only-of-type {\n",
              "        vertical-align: middle;\n",
              "    }\n",
              "\n",
              "    .dataframe tbody tr th {\n",
              "        vertical-align: top;\n",
              "    }\n",
              "\n",
              "    .dataframe thead th {\n",
              "        text-align: right;\n",
              "    }\n",
              "</style>\n",
              "<table border=\"1\" class=\"dataframe\">\n",
              "  <thead>\n",
              "    <tr style=\"text-align: right;\">\n",
              "      <th></th>\n",
              "      <th>0</th>\n",
              "      <th>1</th>\n",
              "      <th>2</th>\n",
              "      <th>3</th>\n",
              "      <th>4</th>\n",
              "      <th>5</th>\n",
              "      <th>6</th>\n",
              "      <th>7</th>\n",
              "      <th>8</th>\n",
              "      <th>9</th>\n",
              "    </tr>\n",
              "  </thead>\n",
              "  <tbody>\n",
              "    <tr>\n",
              "      <th>0</th>\n",
              "      <td>0.000000</td>\n",
              "      <td>14.822846</td>\n",
              "      <td>11.147789</td>\n",
              "      <td>6.070849</td>\n",
              "      <td>8.522530</td>\n",
              "      <td>13.789786</td>\n",
              "      <td>9.996506</td>\n",
              "      <td>2.468554</td>\n",
              "      <td>10.024152</td>\n",
              "      <td>14.194497</td>\n",
              "    </tr>\n",
              "    <tr>\n",
              "      <th>1</th>\n",
              "      <td>14.822846</td>\n",
              "      <td>0.000000</td>\n",
              "      <td>23.361176</td>\n",
              "      <td>8.759365</td>\n",
              "      <td>7.202714</td>\n",
              "      <td>1.264540</td>\n",
              "      <td>21.474967</td>\n",
              "      <td>17.218810</td>\n",
              "      <td>6.866134</td>\n",
              "      <td>20.829936</td>\n",
              "    </tr>\n",
              "    <tr>\n",
              "      <th>2</th>\n",
              "      <td>11.147789</td>\n",
              "      <td>23.361176</td>\n",
              "      <td>0.000000</td>\n",
              "      <td>15.480343</td>\n",
              "      <td>18.801234</td>\n",
              "      <td>22.123823</td>\n",
              "      <td>2.032101</td>\n",
              "      <td>9.306432</td>\n",
              "      <td>16.741317</td>\n",
              "      <td>8.330024</td>\n",
              "    </tr>\n",
              "    <tr>\n",
              "      <th>3</th>\n",
              "      <td>6.070849</td>\n",
              "      <td>8.759365</td>\n",
              "      <td>15.480343</td>\n",
              "      <td>0.000000</td>\n",
              "      <td>3.503411</td>\n",
              "      <td>7.719873</td>\n",
              "      <td>13.808341</td>\n",
              "      <td>8.460515</td>\n",
              "      <td>4.875190</td>\n",
              "      <td>15.395084</td>\n",
              "    </tr>\n",
              "    <tr>\n",
              "      <th>4</th>\n",
              "      <td>8.522530</td>\n",
              "      <td>7.202714</td>\n",
              "      <td>18.801234</td>\n",
              "      <td>3.503411</td>\n",
              "      <td>0.000000</td>\n",
              "      <td>6.561113</td>\n",
              "      <td>17.202968</td>\n",
              "      <td>10.988746</td>\n",
              "      <td>6.661730</td>\n",
              "      <td>18.848238</td>\n",
              "    </tr>\n",
              "    <tr>\n",
              "      <th>5</th>\n",
              "      <td>13.789786</td>\n",
              "      <td>1.264540</td>\n",
              "      <td>22.123823</td>\n",
              "      <td>7.719873</td>\n",
              "      <td>6.561113</td>\n",
              "      <td>0.000000</td>\n",
              "      <td>20.229407</td>\n",
              "      <td>16.156021</td>\n",
              "      <td>5.602052</td>\n",
              "      <td>19.582511</td>\n",
              "    </tr>\n",
              "    <tr>\n",
              "      <th>6</th>\n",
              "      <td>9.996506</td>\n",
              "      <td>21.474967</td>\n",
              "      <td>2.032101</td>\n",
              "      <td>13.808341</td>\n",
              "      <td>17.202968</td>\n",
              "      <td>20.229407</td>\n",
              "      <td>0.000000</td>\n",
              "      <td>8.486040</td>\n",
              "      <td>14.794326</td>\n",
              "      <td>6.935682</td>\n",
              "    </tr>\n",
              "    <tr>\n",
              "      <th>7</th>\n",
              "      <td>2.468554</td>\n",
              "      <td>17.218810</td>\n",
              "      <td>9.306432</td>\n",
              "      <td>8.460515</td>\n",
              "      <td>10.988746</td>\n",
              "      <td>16.156021</td>\n",
              "      <td>8.486040</td>\n",
              "      <td>0.000000</td>\n",
              "      <td>12.059387</td>\n",
              "      <td>13.688190</td>\n",
              "    </tr>\n",
              "    <tr>\n",
              "      <th>8</th>\n",
              "      <td>10.024152</td>\n",
              "      <td>6.866134</td>\n",
              "      <td>16.741317</td>\n",
              "      <td>4.875190</td>\n",
              "      <td>6.661730</td>\n",
              "      <td>5.602052</td>\n",
              "      <td>14.794326</td>\n",
              "      <td>12.059387</td>\n",
              "      <td>0.000000</td>\n",
              "      <td>14.057165</td>\n",
              "    </tr>\n",
              "    <tr>\n",
              "      <th>9</th>\n",
              "      <td>14.194497</td>\n",
              "      <td>20.829936</td>\n",
              "      <td>8.330024</td>\n",
              "      <td>15.395084</td>\n",
              "      <td>18.848238</td>\n",
              "      <td>19.582511</td>\n",
              "      <td>6.935682</td>\n",
              "      <td>13.688190</td>\n",
              "      <td>14.057165</td>\n",
              "      <td>0.000000</td>\n",
              "    </tr>\n",
              "  </tbody>\n",
              "</table>\n",
              "</div>"
            ],
            "text/plain": [
              "           0          1          2          3          4          5  \\\n",
              "0   0.000000  14.822846  11.147789   6.070849   8.522530  13.789786   \n",
              "1  14.822846   0.000000  23.361176   8.759365   7.202714   1.264540   \n",
              "2  11.147789  23.361176   0.000000  15.480343  18.801234  22.123823   \n",
              "3   6.070849   8.759365  15.480343   0.000000   3.503411   7.719873   \n",
              "4   8.522530   7.202714  18.801234   3.503411   0.000000   6.561113   \n",
              "5  13.789786   1.264540  22.123823   7.719873   6.561113   0.000000   \n",
              "6   9.996506  21.474967   2.032101  13.808341  17.202968  20.229407   \n",
              "7   2.468554  17.218810   9.306432   8.460515  10.988746  16.156021   \n",
              "8  10.024152   6.866134  16.741317   4.875190   6.661730   5.602052   \n",
              "9  14.194497  20.829936   8.330024  15.395084  18.848238  19.582511   \n",
              "\n",
              "           6          7          8          9  \n",
              "0   9.996506   2.468554  10.024152  14.194497  \n",
              "1  21.474967  17.218810   6.866134  20.829936  \n",
              "2   2.032101   9.306432  16.741317   8.330024  \n",
              "3  13.808341   8.460515   4.875190  15.395084  \n",
              "4  17.202968  10.988746   6.661730  18.848238  \n",
              "5  20.229407  16.156021   5.602052  19.582511  \n",
              "6   0.000000   8.486040  14.794326   6.935682  \n",
              "7   8.486040   0.000000  12.059387  13.688190  \n",
              "8  14.794326  12.059387   0.000000  14.057165  \n",
              "9   6.935682  13.688190  14.057165   0.000000  "
            ]
          },
          "execution_count": 4,
          "metadata": {},
          "output_type": "execute_result"
        }
      ],
      "source": [
        "import pandas as pd\n",
        "from scipy.spatial import distance_matrix\n",
        "\n",
        "df = pd.DataFrame(nodes, columns=[nodes[0]])\n",
        "Distance_Matrix = pd.DataFrame(distance_matrix(df.values, df.values))\n",
        "Distance_Matrix"
      ]
    },
    {
      "cell_type": "markdown",
      "metadata": {
        "id": "iuGiLlWBI55P"
      },
      "source": [
        "We can observe that:\n",
        "\n",
        "$d_{ij} = d_{ji}$\n",
        "\n",
        "Meaning that the travelling *cost* from $i$ to $j$ is equal to the travelling *cost* from $j$ to $i$. This is not trivial. On an artificial scenario, we may assume this applies to simplify the problem. But in reality, the distances are not equal. <font color='red'>(Why?)</font> When this assumption applies, we consider the problem to be a ***Symmetric TSP***.\n",
        "\n",
        "**Important:** note that we refer to travelling *cost* and not *distance*, because it is not always the case that we measure the travelling cost from $i$ to $j$ node in distance units. It may be fuel cost or time, for example.\n",
        "\n",
        "Also, the diagonal of the matrix above is as follows:\n",
        "\n",
        "$d_{ii} = 0$\n",
        "\n",
        "because it represents the distance of each $i$ node to itself."
      ]
    },
    {
      "cell_type": "markdown",
      "metadata": {
        "id": "G01c86kCTg3l"
      },
      "source": [
        "The Traveling Salesman Problem can be described by a graph $𝐺(𝑉, 𝐴)$, where $𝑉 = {0, 𝑁}$ represents the set of nodes and $𝐴 = {(𝑖,𝑗)|𝑖,𝑗 ∈ 𝑉, 𝑖 ≠ 𝑗}$ represents the set of arcs.\n",
        "\n",
        "Usually, in the set $𝑉$, the starting node (depot) is denoted by 0 and the subset $𝑁$ is defined as $𝑁 = {1,2,3, … , 𝑛}$, where $𝑛$ is the total number of the graph's nodes (except the starting one).\n",
        "\n",
        "The goal of this problem is finding the shortest (closed) path traversing all the graph's nodes. In other words, the goal is to find the shortest path to be traversed by the salesman, so that they visit all cities (nodes) and returns to the starting node.\n",
        "\n",
        "The problem's (mathematical) formulation is given below:\n",
        "\n",
        "\\begin{align}\n",
        "\\text{min} \\quad & \\sum_{i = 1}^{n} \\sum_{j = 1, j \\neq i}^{n} c_{ij} x_{ij}, \\\\\n",
        "\\text{subject to} \\\\\n",
        "& \\sum_{i=1, i \\neq j}^{n} x_{ij} = 1, \\quad j=1,2,…,n,\\\\\n",
        "& \\sum_{j=1, j \\neq i}^{n} x_{ij} = 1, \\quad i=1,2,…,n,\\\\\n",
        "\\end{align}\n",
        "\n",
        "The decision variables $𝑥_{𝑖𝑗}$ are binary variables, where:\n",
        "\\begin{equation}\n",
        "  x_{ij} =\n",
        "    \\begin{cases}\n",
        "      1 & \\text{if the arc <$𝑖,𝑗$> is part of the solution}\\\\\n",
        "      0 & \\text{otherwise}\n",
        "    \\end{cases}       \n",
        "\\end{equation}\n",
        "\n",
        "The objective function minimizes the total travelling cost. In our case study, $[c_{ij}]=[d_{ij}]$ since we consider the travelling cost from $i$ to $j$ to be equal to the distance of the arc <$𝑖,𝑗$>."
      ]
    },
    {
      "cell_type": "markdown",
      "metadata": {
        "id": "JjzlV0W-06hE"
      },
      "source": [
        "An important step (for every Evolutionary Computation-oriented approach) is to define the **solution representation**.\n",
        "\n",
        "Let us consider a graph with 5 nodes and a random solution (tour):"
      ]
    },
    {
      "cell_type": "code",
      "execution_count": 26,
      "metadata": {
        "id": "9fd4700U1FUb"
      },
      "outputs": [
        {
          "data": {
            "text/plain": [
              "array([1, 2, 3, 0, 4])"
            ]
          },
          "execution_count": 26,
          "metadata": {},
          "output_type": "execute_result"
        }
      ],
      "source": [
        "random_tour = np.random.permutation(5)\n",
        "random_tour"
      ]
    },
    {
      "cell_type": "markdown",
      "metadata": {
        "id": "_HjNWim61LUy"
      },
      "source": [
        "The (binary) matrix $[x_{ij}]$ should contain ones (1) in the matrix elements that correspond to \"*going from node $i$ to node $j$*\", i.e., the corresponding $(i,j)$ matrix element."
      ]
    },
    {
      "cell_type": "code",
      "execution_count": 27,
      "metadata": {
        "id": "BuL5TKdq1oaB"
      },
      "outputs": [
        {
          "name": "stdout",
          "output_type": "stream",
          "text": [
            "The tour is:\n",
            " 1 -> 2 -> 3 -> 0 -> 4 -> 1\n",
            "\n",
            "and the decision variables [x_ij]:\n"
          ]
        },
        {
          "data": {
            "text/plain": [
              "array([[0., 0., 0., 0., 1.],\n",
              "       [0., 0., 1., 0., 0.],\n",
              "       [0., 0., 0., 1., 0.],\n",
              "       [1., 0., 0., 0., 0.],\n",
              "       [0., 1., 0., 0., 0.]])"
            ]
          },
          "execution_count": 27,
          "metadata": {},
          "output_type": "execute_result"
        }
      ],
      "source": [
        "x_ij = np.zeros((5,5))\n",
        "x_ij\n",
        "\n",
        "print('The tour is:')\n",
        "[print(' %d' %random_tour[i],'->', end = '') for i in range(len(random_tour))]\n",
        "print(' %d' %random_tour[0])\n",
        "\n",
        "for i in range(len(random_tour)):\n",
        "    if i == len(random_tour)-1:\n",
        "        # the last array element does not correspond to the last tour's node, since the salesman has to return to the starting node\n",
        "        x_ij[random_tour[i]][random_tour[0]] = 1\n",
        "    else:\n",
        "        x_ij[random_tour[i]][random_tour[i+1]] = 1\n",
        "print('\\nand the decision variables [x_ij]:')\n",
        "x_ij"
      ]
    },
    {
      "cell_type": "markdown",
      "metadata": {
        "id": "a8LgFilO8UI4"
      },
      "source": [
        "Thus, if we create a random distance matrix:"
      ]
    },
    {
      "cell_type": "code",
      "execution_count": 28,
      "metadata": {
        "id": "S365SqT18ZDA"
      },
      "outputs": [
        {
          "data": {
            "text/plain": [
              "array([[0.        , 0.87681412, 0.19763843, 0.49638905, 0.1674429 ],\n",
              "       [0.42529294, 0.        , 0.83697084, 0.07823456, 0.96337043],\n",
              "       [0.61918923, 0.77440509, 0.        , 0.17105943, 0.75517355],\n",
              "       [0.33474612, 0.7845741 , 0.12384073, 0.        , 0.30781712],\n",
              "       [0.10599326, 0.39553173, 0.47545903, 0.7674521 , 0.        ]])"
            ]
          },
          "execution_count": 28,
          "metadata": {},
          "output_type": "execute_result"
        }
      ],
      "source": [
        "Dij = np.random.rand(5,5)\n",
        "# ..where we ensure all elements on the diagonal are equal to zero\n",
        "np.fill_diagonal(Dij, 0)\n",
        "Dij"
      ]
    },
    {
      "cell_type": "markdown",
      "metadata": {
        "id": "JIxASVBh9he8"
      },
      "source": [
        "the above (random) solution has a quality (fitness function cost, or objective function cost):"
      ]
    },
    {
      "cell_type": "code",
      "execution_count": 29,
      "metadata": {
        "id": "Lia0edJL9o_M"
      },
      "outputs": [
        {
          "name": "stdout",
          "output_type": "stream",
          "text": [
            "first, multiplying the matrices [x_ij] and [d_ij], we get:\n",
            "\n",
            "[[0.         0.         0.         0.         0.1674429 ]\n",
            " [0.         0.         0.83697084 0.         0.        ]\n",
            " [0.         0.         0.         0.17105943 0.        ]\n",
            " [0.33474612 0.         0.         0.         0.        ]\n",
            " [0.         0.39553173 0.         0.         0.        ]]\n",
            "\n",
            "and then, the summation of the rows and columns is the objective function cost:\n"
          ]
        },
        {
          "data": {
            "text/plain": [
              "1.9057510275855944"
            ]
          },
          "execution_count": 29,
          "metadata": {},
          "output_type": "execute_result"
        }
      ],
      "source": [
        "print('first, multiplying the matrices [x_ij] and [d_ij], we get:\\n')\n",
        "multiplication_of_matrices = x_ij * Dij\n",
        "print(multiplication_of_matrices)\n",
        "\n",
        "print('\\nand then, the summation of the rows and columns is the objective function cost:')\n",
        "cost1 = sum(sum(multiplication_of_matrices))\n",
        "cost1"
      ]
    },
    {
      "cell_type": "markdown",
      "metadata": {
        "id": "po4ZaXg2_r5r"
      },
      "source": [
        "Let us go through the problem's constraints.\n",
        "\n",
        "The first one:\n",
        "\n",
        "$\\sum_{i=1, i \\neq j}^{n} x_{ij} = 1, \\quad j=1,2,…,n,$\n",
        "\n",
        "ensures that from each $i$ node only one arc towards any $j$ node is traversed. Therefore, for each $i$ row of the $[x_{ij}]$ matrix, only one element should be equal to the unity (1) or in other words, the summation of the row should be equal to 1:"
      ]
    },
    {
      "cell_type": "code",
      "execution_count": 30,
      "metadata": {
        "id": "3EdkwwsBAaYE"
      },
      "outputs": [
        {
          "data": {
            "text/plain": [
              "array([1., 1., 1., 1., 1.])"
            ]
          },
          "execution_count": 30,
          "metadata": {},
          "output_type": "execute_result"
        }
      ],
      "source": [
        "x_ij.sum(axis=0)"
      ]
    },
    {
      "cell_type": "markdown",
      "metadata": {
        "id": "TxIIu8nQAZsM"
      },
      "source": [
        "Along the same lines, the second constraint:\n",
        "\n",
        "$\\sum_{j=1, j \\neq i}^{n} x_{ij} = 1, \\quad i=1,2,…,n,$\n",
        "\n",
        "ensures that only one arc is visiting node $j$. Therefore, for each $j$ column of the $[x_{ij}]$ matrix, only one element should be equal to the unity (1) or in other words, the summation of the column should be equal to 1:"
      ]
    },
    {
      "cell_type": "code",
      "execution_count": 31,
      "metadata": {
        "id": "a_Xe2AteC7Bo"
      },
      "outputs": [
        {
          "data": {
            "text/plain": [
              "array([1., 1., 1., 1., 1.])"
            ]
          },
          "execution_count": 31,
          "metadata": {},
          "output_type": "execute_result"
        }
      ],
      "source": [
        "x_ij.sum(axis=1)"
      ]
    },
    {
      "cell_type": "markdown",
      "metadata": {
        "id": "8s2-QZaFhbrD"
      },
      "source": [
        "Finally, the problem's objective function is defined as follows:"
      ]
    },
    {
      "cell_type": "code",
      "execution_count": 32,
      "metadata": {
        "id": "n-EiSry9RVZx"
      },
      "outputs": [],
      "source": [
        "def tsp_obj(x_ij, d_ij):\n",
        "    return sum(sum(x_ij * d_ij))"
      ]
    },
    {
      "cell_type": "markdown",
      "metadata": {
        "id": "0Nj5R7lPHxF4"
      },
      "source": [
        "### Pseudocode"
      ]
    },
    {
      "cell_type": "markdown",
      "metadata": {
        "id": "tPpwM4V2mXpE"
      },
      "source": [
        "Below, you can find the pseudocode of Ant Colony Optimization (ACO):\n",
        "```python\n",
        "Step 1:  Parameter initialization\n",
        "Step 2:  Calculating the heuristic information matrix [h_{ij}]\n",
        "Step 3:  Pheromone matrix [tau_{ij}] initialization\n",
        "Step 4:  Population initialization\n",
        "Step 5:  while stopping criterion not met\n",
        "Step 6:        for each candidate solution (ant) in population\n",
        "Step 7:            while not all customer nodes are part of the solution\n",
        "Step 8:                  Select next node\n",
        "Step 9:                  Calculate solution's quality using the objective function\n",
        "Step 10:                 Pheromone update\n",
        "Step 11:           End\n",
        "Step 12:       End\n",
        "Step 13: End\n",
        "Step 14: return best solution (optimal routes)\n",
        "```"
      ]
    },
    {
      "cell_type": "markdown",
      "metadata": {
        "id": "GAKnGlr0rqvy"
      },
      "source": [
        "As in any other Evolutionary Computation approach, any stopping criterion can be used, e.g., ```for generations = 1:k```, where $k$ corresponds to a predefined maximum number of generations (iterations). In the pseudocode above, you can see the generalization of that as ```while stopping criterion not met```.\n",
        "\n",
        "A way to save computational resources is to define the stopping criterion as the moment when the algorithm has found a solution better or equal to a specific quality:\n",
        "```python\n",
        "while best > tolerance\n",
        "    perform some steps\n",
        "end\n",
        "```\n",
        "meaning that the algorithm will terminate once the best solution in the population has a value less than (maximization problem) a predefined quality (tolerance). This approach is very useful when we have limited time to come up with a solution."
      ]
    },
    {
      "cell_type": "markdown",
      "metadata": {
        "id": "b0A8LJkIYeeb"
      },
      "source": [
        "### Initialization"
      ]
    },
    {
      "cell_type": "markdown",
      "metadata": {
        "id": "FNUxgpZo7AsP"
      },
      "source": [
        "Some common parameters in Evolutionary Computation are:\n",
        "\n",
        "*   the **problem's dimension** (i.e., the number of decision variables<font color='red'>*</font>),\n",
        "*   the number of **generations** (or iterations),\n",
        "*   and the **population**:\n",
        "\n",
        "<font color='red' size='2'>*they may differ from the problem's decision variables</font>"
      ]
    },
    {
      "cell_type": "code",
      "execution_count": 33,
      "metadata": {
        "id": "LIuRt1hA7IyV"
      },
      "outputs": [],
      "source": [
        "dimensions = 5 # problem's dimensions (in our case, we will use the maximum number of nodes)\n",
        "gen = 5        # generations / iterations\n",
        "pop = 10       # population"
      ]
    },
    {
      "cell_type": "markdown",
      "metadata": {
        "id": "_hMzWp6SyeFQ"
      },
      "source": [
        "At this point it is crucial to mention that the problem's dimension may differ from the number of decision variables included in the mathematical formulation. The main reason is the **solution representation** we use.\n",
        "\n",
        "For example, in the Vehicle Routing Problem, a common technique is to define  set $G$ of pseudonodes denoting the depot, when all routes should start from there.\n",
        "\n",
        "<font color='red'>(Why?)</font>"
      ]
    },
    {
      "cell_type": "code",
      "execution_count": 34,
      "metadata": {
        "id": "7mTBLT1aeEY1"
      },
      "outputs": [
        {
          "name": "stdout",
          "output_type": "stream",
          "text": [
            "Οι συντεταγμένες των κόμβων του προβλήματος είναι:\n",
            "[[-4.37973369 -2.58205203]\n",
            " [ 7.70739377  7.69408137]\n",
            " [ 0.30692529 -7.46437077]\n",
            " [-6.86425141 -5.34135272]\n",
            " [-0.476583   -4.06396522]]\n",
            "και ο πίνακας αποστάσεων αυτών:\n",
            "[[ 0.         15.86497929  6.76770335  3.71302689  4.17500324]\n",
            " [15.86497929  0.         16.86847964 19.55135252 14.32582059]\n",
            " [ 6.76770335 16.86847964  0.          7.47883553  3.48950472]\n",
            " [ 3.71302689 19.55135252  7.47883553  0.          6.51414051]\n",
            " [ 4.17500324 14.32582059  3.48950472  6.51414051  0.        ]]\n"
          ]
        }
      ],
      "source": [
        "# Let us create a small TSP instance\n",
        "def TSP_problem(nodes_number):\n",
        "    nodes = []\n",
        "    x = []\n",
        "    y = []\n",
        "    for _ in range(nodes_number):\n",
        "      # we retain the same grid size for the case study\n",
        "      x.append(random.uniform(-10, 10))\n",
        "      y.append(random.uniform(-10, 10))\n",
        "\n",
        "    # converting the list to an array\n",
        "    x = np.array(x)\n",
        "    y = np.array(y)\n",
        "\n",
        "    # nodes: coordinates of problem's nodes\n",
        "    nodes = np.vstack((x,y))\n",
        "    nodes = nodes.T\n",
        "\n",
        "    # distance matrix d_ij\n",
        "    distanceMatrix = squareform(pdist(nodes))\n",
        "\n",
        "    # function return\n",
        "    return nodes, distanceMatrix\n",
        "\n",
        "# CREATING THE INSTANCE\n",
        "coordinates, d_ij = TSP_problem(5)\n",
        "\n",
        "print('Οι συντεταγμένες των κόμβων του προβλήματος είναι:')\n",
        "print(coordinates)\n",
        "print('και ο πίνακας αποστάσεων αυτών:')\n",
        "print(d_ij)"
      ]
    },
    {
      "cell_type": "markdown",
      "metadata": {
        "id": "bj9EZqv97OUS"
      },
      "source": [
        "The **population initialization** should be based on the required solution format: that is, a tour.\n",
        "\n",
        "Therefore, each candidate solution  should be a permutation of the available nodes:"
      ]
    },
    {
      "cell_type": "code",
      "execution_count": 35,
      "metadata": {
        "id": "DyeWqLbl7Ykk"
      },
      "outputs": [
        {
          "name": "stdout",
          "output_type": "stream",
          "text": [
            "[3 0 2 1 4] 48.18917097214632\n",
            "[0 1 4 2 3] 44.87216700942079\n",
            "[0 2 1 3 4] 53.87667926085961\n",
            "[1 4 3 2 0] 50.95147927311314\n",
            "[2 0 4 1 3] 52.298715229188595\n",
            "[1 0 4 3 2] 50.90143820541553\n",
            "[1 3 0 4 2] 47.79736699716726\n",
            "[1 4 0 3 2] 46.56116587277769\n",
            "[4 3 1 2 0] 53.87667926085961\n",
            "[1 4 3 2 0] 50.95147927311314\n"
          ]
        }
      ],
      "source": [
        "# a class defining candidate solutions (ants) - agents\n",
        "class ant:\n",
        "    def __init__(self,number_of_nodes,dist_mat):\n",
        "        # the agent's \"position\" is a sequence of nodes\n",
        "        self.position = np.random.permutation(number_of_nodes)\n",
        "        self.x_ij = np.zeros((number_of_nodes,number_of_nodes))\n",
        "        for i in range(number_of_nodes):\n",
        "            if i == number_of_nodes-1:\n",
        "                # the last element should be the starting node, since the salesman always return to that\n",
        "                self.x_ij[self.position[i]][self.position[0]] = 1\n",
        "            else:\n",
        "                self.x_ij[self.position[i]][self.position[i+1]] = 1\n",
        "\n",
        "        self.quality = tsp_obj(self.x_ij,dist_mat)\n",
        "\n",
        "# therefore, we can generate a population of solutions using the class above\n",
        "population = [ant(dimensions,d_ij) for _ in range(pop)]\n",
        "\n",
        "for i in range(pop):\n",
        "    print(population[i].position, population[i].quality)"
      ]
    },
    {
      "cell_type": "markdown",
      "metadata": {
        "id": "1GhtJRxeYnuJ"
      },
      "source": [
        "### Heuristic Information"
      ]
    },
    {
      "cell_type": "markdown",
      "metadata": {
        "id": "fQ3EteL1sGT_"
      },
      "source": [
        "Since ACO has been introduced as an approach to solve graph-based problems, a heuristic information is used, defined as follows:\n",
        "\n",
        "$n_{ij} = 1 / c_{ij}$\n",
        "\n",
        "where $c_{ij}$ is the travelling cost from node $i$ to node $j$."
      ]
    },
    {
      "cell_type": "code",
      "execution_count": 36,
      "metadata": {
        "id": "B3MVJA5mhU1k"
      },
      "outputs": [
        {
          "name": "stdout",
          "output_type": "stream",
          "text": [
            "The distance matrix [d_ij] is:\n",
            "[[ 0.         15.86497929  6.76770335  3.71302689  4.17500324]\n",
            " [15.86497929  0.         16.86847964 19.55135252 14.32582059]\n",
            " [ 6.76770335 16.86847964  0.          7.47883553  3.48950472]\n",
            " [ 3.71302689 19.55135252  7.47883553  0.          6.51414051]\n",
            " [ 4.17500324 14.32582059  3.48950472  6.51414051  0.        ]]\n",
            "\n",
            "thus, the heuristic information [n_ij] is:\n",
            "[[0.         0.06303191 0.14776061 0.26932205 0.23952077]\n",
            " [0.06303191 0.         0.05928217 0.05114736 0.06980403]\n",
            " [0.14776061 0.05928217 0.         0.13371066 0.28657362]\n",
            " [0.26932205 0.05114736 0.13371066 0.         0.15351219]\n",
            " [0.23952077 0.06980403 0.28657362 0.15351219 0.        ]]\n"
          ]
        },
        {
          "name": "stderr",
          "output_type": "stream",
          "text": [
            "C:\\Users\\bapti\\AppData\\Local\\Temp\\ipykernel_15296\\3778115127.py:6: RuntimeWarning: divide by zero encountered in divide\n",
            "  n_ij = 1 / d_ij\n"
          ]
        }
      ],
      "source": [
        "import math\n",
        "\n",
        "print('The distance matrix [d_ij] is:')\n",
        "print(d_ij)\n",
        "\n",
        "n_ij = 1 / d_ij\n",
        "\n",
        "# since the division by 0 will return Inf, we set the corresponding matrix elements back to 0\n",
        "n_ij[n_ij == math.inf] = 0\n",
        "\n",
        "print('\\nthus, the heuristic information [n_ij] is:')\n",
        "print(n_ij)"
      ]
    },
    {
      "cell_type": "markdown",
      "metadata": {
        "id": "M_QGuCUqh_mh"
      },
      "source": [
        "The ***heuristic information*** represents the salesman's willingness to travel from node $i$ to node $j$. As you can observe, it is inversely proportional to the distance, because the shorter the distance the more willing the salesman will be to traverse the arc $<i,j>$.\n",
        "\n",
        "In that way, shorter arcs are more possible to be selected as part of a solution."
      ]
    },
    {
      "cell_type": "markdown",
      "metadata": {
        "id": "7C765ZLG220s"
      },
      "source": [
        "### Pheromone $[τ_{ij}]$"
      ]
    },
    {
      "cell_type": "markdown",
      "metadata": {
        "id": "CkmtGNt8ZOTc"
      },
      "source": [
        "Then, each candidate solution (agent/ant) creates a tour based on the heuristic information and pheromone.\n",
        "\n",
        "Pheromone, as mentioned before, indicates if an arc has been part of tours with higher quality. Therefore, at every generation (iteration), if an arc $<i,j>$ is part of any solution, the pheromone is increased for this arc. As a result, its selection becomes more possible in the next algorithm's iterations/steps. The more the pheromone is increased, the more probable is the arc to be included in more candidate solutions.\n",
        "\n",
        "A common way to initialize pheromone is the following:\n",
        "\n",
        "$τ_{ij} = \\frac{m}{TC}$\n",
        "\n",
        "where $m$ denotes the number of ants (population size) and $TC$ denotes the total cost (sum of qualities) of the solutions in which the arc was part in the current population."
      ]
    },
    {
      "cell_type": "code",
      "execution_count": 42,
      "metadata": {
        "id": "Vf0fpa0xUnII"
      },
      "outputs": [
        {
          "data": {
            "text/plain": [
              "array([[0.        , 0.06153856, 0.03931246, 0.02147713, 0.0782493 ],\n",
              "       [0.01964581, 0.        , 0.01856091, 0.05860349, 0.10376724],\n",
              "       [0.07693487, 0.10135705, 0.        , 0.02228553, 0.        ],\n",
              "       [0.06395873, 0.01856091, 0.0994969 , 0.        , 0.01856091],\n",
              "       [0.04003803, 0.01912093, 0.04320718, 0.0982113 , 0.        ]])"
            ]
          },
          "execution_count": 42,
          "metadata": {},
          "output_type": "execute_result"
        }
      ],
      "source": [
        "# pheromone - tau\n",
        "tau = np.zeros((dimensions,dimensions))\n",
        "\n",
        "for i in range(pop):\n",
        "    Dt = np.multiply(population[i].x_ij, (1 / population[i].quality) )\n",
        "    tau = tau + Dt\n",
        "\n",
        "tau"
      ]
    },
    {
      "cell_type": "markdown",
      "metadata": {
        "id": "CdXdt47ZqepO"
      },
      "source": [
        "ACO is a probabilistic stepwise construction path method. Meaning that the selection of $<i,j>$ is based on the propability:\n",
        "\n",
        "$p_{i,j} =\\frac{\\tau_{ij}^\\alpha \\cdot \\eta_{ij}^\\beta}{\\sum_{l=1}^d{\\tau_{il}^\\alpha \\cdot \\eta_{il}^\\beta}}$\n",
        "\n",
        "where $d$ is the number of nodes, and $\\alpha$ and $\\beta$ are two parameters defining the weight that pheromone $τ_{ij}$ and heuristic information $n_{ij}$ on the selection of the next node while constructing the path.\n",
        "\n",
        "So, we need to define a value for these parameters:"
      ]
    },
    {
      "cell_type": "code",
      "execution_count": 43,
      "metadata": {
        "id": "4bGvHIobZXFD"
      },
      "outputs": [],
      "source": [
        "alpha  = 1  # συντελεστής α\n",
        "beta   = 1  # συντελεστής β"
      ]
    },
    {
      "cell_type": "markdown",
      "metadata": {
        "id": "vMnOWkWOtVQV"
      },
      "source": [
        "The probabilistic rule described in the above formula defines that the probability of the arc $<i,j>$ to be part of a candidate solution increases while the pheromone or the heuristic information of the corresponding arc increases. That is:\n",
        "*   if the arc is often selected as part of the candidate solution tours (higher pheromone) or\n",
        "*   if the arc has lower travelling cost (higher heuristic information).\n",
        "\n",
        "If one of the parameters $α$ and $β$ is equal to zero (0), then the selection of the arc (as part of the solution) depends only on one factor: if $α=0$, then the selection of the arc depends only on the heuristic information, whereas if $β=0$, the selection of the arc depends only on the pheromone.\n",
        "\n",
        "None of these (extreme) cases is a good practise. Usually, we set the values of $α$ and $β$ to be equal or having slight difference. The reason is we would like to maintain a balanced trade-off between the algorithm's exploration (pheromone) and exploitation (heuristic information). Common values in the literature are: $1$, $1,5$ and $2$, but these are not binding. We can fine-tune their values with parameter tuning and good knowledge about the problem. In some cases, we may want slightly more exploration than exploitation, and vise-versa. Ofcourse, we can change their values dynamically within the algorithm process."
      ]
    },
    {
      "cell_type": "markdown",
      "metadata": {
        "id": "IiF5Zd2av4xw"
      },
      "source": [
        "After all agents (ants) have defined their tours (candidate solutions), some pheromone is evaporated from all paths using the formula:\n",
        "\n",
        "$τ_{ij} \\leftarrow (1 - ρ) \\cdot τ_{ij}$\n",
        "\n",
        "where $0<ρ<1$ is the ***evaporation rate*** and ensures the algorithm will not be trapped in a local optimum, since it \"forgets\" part of the colleected information gradually."
      ]
    },
    {
      "cell_type": "code",
      "execution_count": 44,
      "metadata": {
        "id": "Sq8nAxG7wSvt"
      },
      "outputs": [],
      "source": [
        "rho = 0.05"
      ]
    },
    {
      "cell_type": "markdown",
      "metadata": {
        "id": "U_TrQWOMwiam"
      },
      "source": [
        "Moreover, pheromone is updated for the arcs being part of the agents' solutions, i.e., the tours:\n",
        "\n",
        "$τ_{ij} \\leftarrow τ_{ij} + \\sum_{k=1}^{m}{Δτ_{ij}^k}$\n",
        "\n",
        "where $Δτ_{ij}^k$ is the pheromone applied by a single ant $k$ and is calculated as:\n",
        "\n",
        "\\begin{equation}\n",
        "  Δτ_{ij}^k =\n",
        "    \\begin{cases}\n",
        "      1/C^k & \\text{if the arc $<i,j>$ is part of the $k$-th ant's tour}\\\\\n",
        "      0     & \\text{otherwise}\n",
        "    \\end{cases}       \n",
        "\\end{equation}\n",
        "\n",
        "where $C^k$ is the quality of the solution (tour) of the $k$-th ant.\n",
        "\n",
        "The greater this quantity, the more pheromone is applied by the corresponding ant."
      ]
    },
    {
      "cell_type": "code",
      "execution_count": 45,
      "metadata": {
        "id": "cy8HjQGm0_Wv"
      },
      "outputs": [
        {
          "name": "stdout",
          "output_type": "stream",
          "text": [
            "[4 0 2 1 3] 53.87667926085961\n",
            "The random number 0.3027664787924319 was generated.\n",
            "The Probability Density Function is:  [0.         0.11337045 0.28314826 0.45220798 1.        ]\n",
            "The node 3 has been selected as the next node of the route.\n",
            "The route at this point is:  [0 3] \n",
            "\n",
            "The random number 0.48328807784554184 was generated.\n",
            "The Probability Density Function is:  [0.         0.05550904 0.83339677 0.83339677 1.        ]\n",
            "The node 2 has been selected as the next node of the route.\n",
            "The route at this point is:  [0 3 2] \n",
            "\n",
            "The random number 0.4103119700504724 was generated.\n",
            "The Probability Density Function is:  [0. 1. 1. 1. 1.]\n",
            "The node 1 has been selected as the next node of the route.\n",
            "The route at this point is:  [0 3 2 1] \n",
            "\n",
            "The random number 0.21959151491058593 was generated.\n",
            "The Probability Density Function is:  [0. 0. 0. 0. 1.]\n",
            "The node 4 has been selected as the next node of the route.\n",
            "The route at this point is:  [0 3 2 1 4] \n",
            "\n"
          ]
        }
      ],
      "source": [
        "# Thus, we must add in the class a function describing ants\n",
        "class ant1:\n",
        "    def __init__(self,number_of_nodes,dist_mat):\n",
        "        # the agent's \"position\" is a sequence of nodes\n",
        "        self.position = np.random.permutation(number_of_nodes)\n",
        "        self.x_ij = np.zeros((number_of_nodes,number_of_nodes))\n",
        "        for i in range(number_of_nodes):\n",
        "            if i == number_of_nodes-1:\n",
        "                # the last element should be the starting node, since the salesman always return to that\n",
        "                self.x_ij[self.position[i]][self.position[0]] = 1\n",
        "            else:\n",
        "                self.x_ij[self.position[i]][self.position[i+1]] = 1\n",
        "\n",
        "        self.quality = tsp_obj(self.x_ij,dist_mat)\n",
        "\n",
        "    def route_construction(self,number_of_nodes,tau,a,b,n_ij,dist_mat):\n",
        "        # construction of a new route can start from any node (TSP-only)\n",
        "        new_position = np.array(np.random.randint(0, number_of_nodes))\n",
        "        while new_position.size < dimensions:\n",
        "              if new_position.size == 1:\n",
        "                  j = new_position\n",
        "              else:\n",
        "                  j = new_position[-1]\n",
        "              P = tau[j][:]**a * n_ij[j][:]**b\n",
        "              P[new_position] = 0\n",
        "              P = P / sum(P)\n",
        "\n",
        "              # selecting the next node\n",
        "              val = np.random.rand()\n",
        "              print('The random number',val,'was generated.')\n",
        "              print('The Probability Density Function is: ',P.cumsum())\n",
        "              #print(np.isnan(P))\n",
        "              next_node = np.where(val < P.cumsum())[0][0]\n",
        "              print('The node',next_node,'has been selected as the next node of the route.')\n",
        "\n",
        "              # append the node in the route\n",
        "              new_position = np.append(new_position,next_node)\n",
        "              print('The route at this point is: ',new_position,'\\n')\n",
        "\n",
        "        # storing the route created and calculating its quality\n",
        "        self.position = new_position\n",
        "        self.quality = tsp_obj(self.x_ij,dist_mat)\n",
        "\n",
        "# Let us create a trial solution to test the above function:\n",
        "trial_ant = ant1(dimensions,d_ij)\n",
        "print(trial_ant.position, trial_ant.quality)\n",
        "\n",
        "trial_ant.route_construction(dimensions,tau,alpha,beta,n_ij,d_ij)"
      ]
    },
    {
      "cell_type": "markdown",
      "metadata": {
        "id": "J7SJYIMs8RO8"
      },
      "source": [
        "Then, we can generate a population and construct routes iteratively:"
      ]
    },
    {
      "cell_type": "code",
      "execution_count": 46,
      "metadata": {
        "id": "Wqz_9bGA8dB7"
      },
      "outputs": [],
      "source": [
        "# creating a new class (the previous one prints the solution for demonstration)\n",
        "class ant2:\n",
        "    def __init__(self,number_of_nodes,dist_mat):\n",
        "        # the agent's \"position\" is a sequence of nodes\n",
        "        self.position = np.random.permutation(number_of_nodes)\n",
        "        self.x_ij = np.zeros((number_of_nodes,number_of_nodes))\n",
        "        for i in range(number_of_nodes):\n",
        "            if i == number_of_nodes-1:\n",
        "                # the last element should be the starting node, since the salesman always return to that\n",
        "                self.x_ij[self.position[i]][self.position[0]] = 1\n",
        "            else:\n",
        "                self.x_ij[self.position[i]][self.position[i+1]] = 1\n",
        "\n",
        "        self.quality = tsp_obj(self.x_ij,dist_mat)\n",
        "\n",
        "    def route_construction(self,number_of_nodes,tau,a,b,n_ij,dist_mat):\n",
        "        # construction of a new route can start from any node (TSP-only)\n",
        "        new_position = np.array(np.random.randint(0, number_of_nodes))\n",
        "        while new_position.size < dimensions:\n",
        "              if new_position.size == 1:\n",
        "                  j = new_position\n",
        "              else:\n",
        "                  j = new_position[-1]\n",
        "              P = tau[j][:]**a * n_ij[j][:]**b\n",
        "              P[new_position] = 0\n",
        "              P = P / sum(P)\n",
        "\n",
        "              # selecting the next node\n",
        "              val = np.random.rand()\n",
        "              next_node = np.where(val < P.cumsum())[0][0]\n",
        "\n",
        "              # append the node in the route\n",
        "              new_position = np.append(new_position,next_node)\n",
        "\n",
        "        # storing the route created and calculating its quality\n",
        "        self.position = new_position\n",
        "        self.quality = tsp_obj(self.x_ij,dist_mat)"
      ]
    },
    {
      "cell_type": "markdown",
      "metadata": {
        "id": "T8ZScbH228_w"
      },
      "source": [
        "### Termination criterion"
      ]
    },
    {
      "cell_type": "markdown",
      "metadata": {
        "id": "x5UBmUFa2V0M"
      },
      "source": [
        "As we discussed above, the termination criterion can be the maximun number of iterations:"
      ]
    },
    {
      "cell_type": "code",
      "execution_count": 47,
      "metadata": {
        "id": "PpbbpucCf9Z3"
      },
      "outputs": [
        {
          "name": "stdout",
          "output_type": "stream",
          "text": [
            "The best solution in generation 0 is: [3 0 4 2 1] with quality: 44.87216700942079\n",
            "The best solution in generation 1 is: [1 4 2 0 3] with quality: 44.87216700942079\n",
            "The best solution in generation 2 is: [1 0 4 3 2] with quality: 44.87216700942079\n",
            "The best solution in generation 3 is: [4 0 1 3 2] with quality: 44.87216700942079\n"
          ]
        },
        {
          "name": "stderr",
          "output_type": "stream",
          "text": [
            "C:\\Users\\bapti\\AppData\\Local\\Temp\\ipykernel_15296\\319346260.py:26: RuntimeWarning: invalid value encountered in divide\n",
            "  P = P / sum(P)\n"
          ]
        },
        {
          "ename": "IndexError",
          "evalue": "index 0 is out of bounds for axis 0 with size 0",
          "output_type": "error",
          "traceback": [
            "\u001b[1;31m---------------------------------------------------------------------------\u001b[0m",
            "\u001b[1;31mIndexError\u001b[0m                                Traceback (most recent call last)",
            "\u001b[1;32md:\\gitClone\\VRPTW\\Ant_Colony_Optimization_(SOTA_2023).ipynb Cell 56\u001b[0m line \u001b[0;36m<cell line: 8>\u001b[1;34m()\u001b[0m\n\u001b[0;32m      <a href='vscode-notebook-cell:/d%3A/gitClone/VRPTW/Ant_Colony_Optimization_%28SOTA_2023%29.ipynb#Y106sZmlsZQ%3D%3D?line=6'>7</a>\u001b[0m j \u001b[39m=\u001b[39m \u001b[39m0\u001b[39m\n\u001b[0;32m      <a href='vscode-notebook-cell:/d%3A/gitClone/VRPTW/Ant_Colony_Optimization_%28SOTA_2023%29.ipynb#Y106sZmlsZQ%3D%3D?line=7'>8</a>\u001b[0m \u001b[39mwhile\u001b[39;00m j \u001b[39m<\u001b[39m\u001b[39m=\u001b[39m steps:\n\u001b[0;32m      <a href='vscode-notebook-cell:/d%3A/gitClone/VRPTW/Ant_Colony_Optimization_%28SOTA_2023%29.ipynb#Y106sZmlsZQ%3D%3D?line=8'>9</a>\u001b[0m     \u001b[39m# constructing routes\u001b[39;00m\n\u001b[1;32m---> <a href='vscode-notebook-cell:/d%3A/gitClone/VRPTW/Ant_Colony_Optimization_%28SOTA_2023%29.ipynb#Y106sZmlsZQ%3D%3D?line=9'>10</a>\u001b[0m     [trial_population[i]\u001b[39m.\u001b[39mroute_construction(dimensions,tau,alpha,beta,n_ij,d_ij) \u001b[39mfor\u001b[39;00m i \u001b[39min\u001b[39;00m \u001b[39mrange\u001b[39m(pop)]\n\u001b[0;32m     <a href='vscode-notebook-cell:/d%3A/gitClone/VRPTW/Ant_Colony_Optimization_%28SOTA_2023%29.ipynb#Y106sZmlsZQ%3D%3D?line=11'>12</a>\u001b[0m     \u001b[39m# find/update the best solution in the population\u001b[39;00m\n\u001b[0;32m     <a href='vscode-notebook-cell:/d%3A/gitClone/VRPTW/Ant_Colony_Optimization_%28SOTA_2023%29.ipynb#Y106sZmlsZQ%3D%3D?line=12'>13</a>\u001b[0m     iter_best \u001b[39m=\u001b[39m \u001b[39mmin\u001b[39m(trial_population, key\u001b[39m=\u001b[39m\u001b[39mlambda\u001b[39;00m trial_population: trial_population\u001b[39m.\u001b[39mquality)\n",
            "\u001b[1;32md:\\gitClone\\VRPTW\\Ant_Colony_Optimization_(SOTA_2023).ipynb Cell 56\u001b[0m line \u001b[0;36m<listcomp>\u001b[1;34m(.0)\u001b[0m\n\u001b[0;32m      <a href='vscode-notebook-cell:/d%3A/gitClone/VRPTW/Ant_Colony_Optimization_%28SOTA_2023%29.ipynb#Y106sZmlsZQ%3D%3D?line=6'>7</a>\u001b[0m j \u001b[39m=\u001b[39m \u001b[39m0\u001b[39m\n\u001b[0;32m      <a href='vscode-notebook-cell:/d%3A/gitClone/VRPTW/Ant_Colony_Optimization_%28SOTA_2023%29.ipynb#Y106sZmlsZQ%3D%3D?line=7'>8</a>\u001b[0m \u001b[39mwhile\u001b[39;00m j \u001b[39m<\u001b[39m\u001b[39m=\u001b[39m steps:\n\u001b[0;32m      <a href='vscode-notebook-cell:/d%3A/gitClone/VRPTW/Ant_Colony_Optimization_%28SOTA_2023%29.ipynb#Y106sZmlsZQ%3D%3D?line=8'>9</a>\u001b[0m     \u001b[39m# constructing routes\u001b[39;00m\n\u001b[1;32m---> <a href='vscode-notebook-cell:/d%3A/gitClone/VRPTW/Ant_Colony_Optimization_%28SOTA_2023%29.ipynb#Y106sZmlsZQ%3D%3D?line=9'>10</a>\u001b[0m     [trial_population[i]\u001b[39m.\u001b[39;49mroute_construction(dimensions,tau,alpha,beta,n_ij,d_ij) \u001b[39mfor\u001b[39;00m i \u001b[39min\u001b[39;00m \u001b[39mrange\u001b[39m(pop)]\n\u001b[0;32m     <a href='vscode-notebook-cell:/d%3A/gitClone/VRPTW/Ant_Colony_Optimization_%28SOTA_2023%29.ipynb#Y106sZmlsZQ%3D%3D?line=11'>12</a>\u001b[0m     \u001b[39m# find/update the best solution in the population\u001b[39;00m\n\u001b[0;32m     <a href='vscode-notebook-cell:/d%3A/gitClone/VRPTW/Ant_Colony_Optimization_%28SOTA_2023%29.ipynb#Y106sZmlsZQ%3D%3D?line=12'>13</a>\u001b[0m     iter_best \u001b[39m=\u001b[39m \u001b[39mmin\u001b[39m(trial_population, key\u001b[39m=\u001b[39m\u001b[39mlambda\u001b[39;00m trial_population: trial_population\u001b[39m.\u001b[39mquality)\n",
            "\u001b[1;32md:\\gitClone\\VRPTW\\Ant_Colony_Optimization_(SOTA_2023).ipynb Cell 56\u001b[0m line \u001b[0;36mant2.route_construction\u001b[1;34m(self, number_of_nodes, tau, a, b, n_ij, dist_mat)\u001b[0m\n\u001b[0;32m     <a href='vscode-notebook-cell:/d%3A/gitClone/VRPTW/Ant_Colony_Optimization_%28SOTA_2023%29.ipynb#Y106sZmlsZQ%3D%3D?line=27'>28</a>\u001b[0m \u001b[39m# selecting the next node\u001b[39;00m\n\u001b[0;32m     <a href='vscode-notebook-cell:/d%3A/gitClone/VRPTW/Ant_Colony_Optimization_%28SOTA_2023%29.ipynb#Y106sZmlsZQ%3D%3D?line=28'>29</a>\u001b[0m val \u001b[39m=\u001b[39m np\u001b[39m.\u001b[39mrandom\u001b[39m.\u001b[39mrand()\n\u001b[1;32m---> <a href='vscode-notebook-cell:/d%3A/gitClone/VRPTW/Ant_Colony_Optimization_%28SOTA_2023%29.ipynb#Y106sZmlsZQ%3D%3D?line=29'>30</a>\u001b[0m next_node \u001b[39m=\u001b[39m np\u001b[39m.\u001b[39;49mwhere(val \u001b[39m<\u001b[39;49m P\u001b[39m.\u001b[39;49mcumsum())[\u001b[39m0\u001b[39;49m][\u001b[39m0\u001b[39;49m]\n\u001b[0;32m     <a href='vscode-notebook-cell:/d%3A/gitClone/VRPTW/Ant_Colony_Optimization_%28SOTA_2023%29.ipynb#Y106sZmlsZQ%3D%3D?line=31'>32</a>\u001b[0m \u001b[39m# append the node in the route\u001b[39;00m\n\u001b[0;32m     <a href='vscode-notebook-cell:/d%3A/gitClone/VRPTW/Ant_Colony_Optimization_%28SOTA_2023%29.ipynb#Y106sZmlsZQ%3D%3D?line=32'>33</a>\u001b[0m new_position \u001b[39m=\u001b[39m np\u001b[39m.\u001b[39mappend(new_position,next_node)\n",
            "\u001b[1;31mIndexError\u001b[0m: index 0 is out of bounds for axis 0 with size 0"
          ]
        }
      ],
      "source": [
        "# in case of maximum number of iterations as the termination criterion:\n",
        "steps = 10\n",
        "\n",
        "trial_population = [ant2(dimensions,d_ij) for _ in range(pop)]\n",
        "gbest = min(trial_population, key=lambda trial_population: trial_population.quality)\n",
        "\n",
        "j = 0\n",
        "while j <= steps:\n",
        "    # constructing routes\n",
        "    [trial_population[i].route_construction(dimensions,tau,alpha,beta,n_ij,d_ij) for i in range(pop)]\n",
        "\n",
        "    # find/update the best solution in the population\n",
        "    iter_best = min(trial_population, key=lambda trial_population: trial_population.quality)\n",
        "    if iter_best.quality < gbest.quality:\n",
        "        gbest.position = iter_best.position\n",
        "        gbest.quality = iter_best.quality\n",
        "\n",
        "    print(\"The best solution in generation %d is:\" %j,gbest.position,\"with quality:\",gbest.quality)\n",
        "    j += 1\n"
      ]
    },
    {
      "cell_type": "markdown",
      "metadata": {
        "id": "FKQNSAd6GwqO"
      },
      "source": [
        "or a tolerance level.\n",
        "\n",
        "However, in that case, we must have a solution quality that we would like to surpass, i.e., find a solution of better quality.\n",
        "\n",
        "For example, if that quality was equal to 45 cost units:\n",
        "\n",
        "(**ATTENTION:** This may lead to hundreds of iterations until it reaches a solution of better quality...)"
      ]
    },
    {
      "cell_type": "code",
      "execution_count": 58,
      "metadata": {
        "id": "KhiJb8qcl-V4"
      },
      "outputs": [
        {
          "name": "stdout",
          "output_type": "stream",
          "text": [
            "The initial solution is: [4 2 3 0 1] with quality: 44.87216700942079\n"
          ]
        }
      ],
      "source": [
        "tolerance = 45 # tolerance level for the tour's cost\n",
        "\n",
        "trial_population1 = [ant2(dimensions,d_ij) for _ in range(pop)]\n",
        "gbest = min(trial_population1, key=lambda trial_population1: trial_population1.quality)\n",
        "\n",
        "best = gbest.quality\n",
        "print(\"The initial solution is:\",gbest.position,\"with quality:\",gbest.quality)\n",
        "\n",
        "while best > tolerance:\n",
        "    # constructing routes\n",
        "    [trial_population1[i].route_construction(dimensions,tau,alpha,beta,n_ij,d_ij) for i in range(pop)]\n",
        "\n",
        "    # find/update the best solution in the population\n",
        "    iter_best = min(trial_population1, key=lambda trial_population1: trial_population1.quality)\n",
        "    if iter_best.quality < gbest.quality:\n",
        "        gbest.position = iter_best.position\n",
        "        gbest.quality = iter_best.quality\n",
        "\n",
        "    print(\"The best solution is:\",gbest.position,\"with quality:\",gbest.quality)"
      ]
    },
    {
      "cell_type": "markdown",
      "metadata": {
        "id": "MH8UVxs4tlbT"
      },
      "source": [
        "A complete and simple Ant Colony Optimization code is given below:"
      ]
    },
    {
      "cell_type": "code",
      "execution_count": 62,
      "metadata": {
        "id": "MknVB7qYauTH"
      },
      "outputs": [
        {
          "name": "stdout",
          "output_type": "stream",
          "text": [
            "The best solution in the 0 generation is: [3 1 0 2 4] with quality: 28.673802480304495\n",
            "The best solution in the 1 generation is: [1 2 4 0 3] with quality: 28.673802480304495\n",
            "The best solution in the 2 generation is: [3 2 0 4 1] with quality: 28.673802480304495\n",
            "The best solution in the 3 generation is: [2 4 1 0 3] with quality: 28.673802480304495\n",
            "The best solution in the 4 generation is: [1 0 3 4 2] with quality: 28.673802480304495\n",
            "The best solution in the 5 generation is: [1 2 0 3 4] with quality: 28.673802480304495\n",
            "The best solution in the 6 generation is: [2 4 0 1 3] with quality: 28.673802480304495\n",
            "The best solution in the 7 generation is: [2 4 1 0 3] with quality: 28.673802480304495\n",
            "The best solution in the 8 generation is: [4 1 2 0 3] with quality: 28.673802480304495\n",
            "The best solution in the 9 generation is: [4 1 3 2 0] with quality: 28.673802480304495\n",
            "The best solution in the 10 generation is: [1 0 4 2 3] with quality: 28.673802480304495\n"
          ]
        },
        {
          "name": "stderr",
          "output_type": "stream",
          "text": [
            "C:\\Users\\bapti\\AppData\\Local\\Temp\\ipykernel_15296\\2260513899.py:82: RuntimeWarning: divide by zero encountered in divide\n",
            "  n_ij = 1 / d_ij\n"
          ]
        }
      ],
      "source": [
        "import numpy as np\n",
        "import random\n",
        "\n",
        "# objective function\n",
        "def tsp_obj(x_ij, d_ij):\n",
        "    return sum(sum(x_ij * d_ij))\n",
        "\n",
        "# problem-related parameters (here: Traveling Salesman Problem - TSP)\n",
        "def TSP_problem(nodes_number,grid_dim):\n",
        "    nodes = []\n",
        "    x = []\n",
        "    y = []\n",
        "    # grid dimensions\n",
        "    bounds = grid_dim/2\n",
        "    for _ in range(nodes_number):\n",
        "      x.append(random.uniform(-bounds, bounds))\n",
        "      y.append(random.uniform(-bounds, bounds))\n",
        "\n",
        "    # convert the list into an array\n",
        "    x = np.array(x)\n",
        "    y = np.array(y)\n",
        "\n",
        "    # nodes: coordinates of generated nodes\n",
        "    nodes = np.vstack((x,y))\n",
        "    nodes = nodes.T\n",
        "\n",
        "    # distance matrix d_ij\n",
        "    distanceMatrix = squareform(pdist(nodes))\n",
        "\n",
        "    # function return\n",
        "    return nodes, distanceMatrix\n",
        "\n",
        "class ant():\n",
        "    def __init__(self,number_of_nodes,dist_mat):\n",
        "        # the agent's \"position\" is a sequence of nodes\n",
        "        self.position = np.random.permutation(number_of_nodes)\n",
        "        self.x_ij = np.zeros((number_of_nodes,number_of_nodes))\n",
        "        for i in range(number_of_nodes):\n",
        "            if i == number_of_nodes-1:\n",
        "                # the last element should be the starting node, since the salesman always return to that\n",
        "                self.x_ij[self.position[i]][self.position[0]] = 1\n",
        "            else:\n",
        "                self.x_ij[self.position[i]][self.position[i+1]] = 1\n",
        "\n",
        "        self.quality = tsp_obj(self.x_ij,dist_mat)\n",
        "\n",
        "    def route_construction(self,number_of_nodes,tau,a,b,n_ij,dist_mat):\n",
        "        # construction of a new route can start from any node (TSP-only)\n",
        "        new_position = np.array(np.random.randint(0, number_of_nodes))\n",
        "        while new_position.size < dimensions:\n",
        "              if new_position.size == 1:\n",
        "                  j = new_position\n",
        "              else:\n",
        "                  j = new_position[-1]\n",
        "              P = tau[j][:]**a * n_ij[j][:]**b\n",
        "              P[new_position] = 0\n",
        "              P = P / sum(P)\n",
        "\n",
        "              # selecting the next node\n",
        "              val = np.random.rand()\n",
        "              next_node = np.where(val < P.cumsum())[0][0]\n",
        "\n",
        "              # append the node in the route\n",
        "              new_position = np.append(new_position,next_node)\n",
        "\n",
        "        # storing the route created and calculating its quality\n",
        "        self.position = new_position\n",
        "        self.quality = tsp_obj(self.x_ij,dist_mat)\n",
        "\n",
        "def ant_colony_optimization():\n",
        "    dimensions = 5 # problem's dimensions (in our case, we will use the maximum number of nodes)\n",
        "    gen   = 5      # generations / iterations\n",
        "    pop   = 10     # population\n",
        "    alpha = 1      # learning factor alpha\n",
        "    beta  = 1      # learning factor beta\n",
        "    rho   = 0.05   # evaporation rate\n",
        "\n",
        "    # CREATING A PROBLEM INSTANCE\n",
        "    coordinates, d_ij = TSP_problem(dimensions,10)\n",
        "\n",
        "    # HEURISTIC INFORMATION\n",
        "    n_ij = 1 / d_ij\n",
        "    # since the division by 0 will return Inf, we set the corresponding matrix elements back to 0\n",
        "    n_ij[n_ij == math.inf] = 0\n",
        "\n",
        "    population = [ant(dimensions,d_ij) for _ in range(pop)]\n",
        "    \n",
        "    # PHEROMONE\n",
        "    tau = np.zeros((dimensions,dimensions))\n",
        "    for i in range(pop):\n",
        "        Dt = np.multiply(population[i].x_ij, (1 / population[i].quality) )\n",
        "        tau = tau + Dt\n",
        "\n",
        "    gbest = min(population, key=lambda population: population.quality)\n",
        "\n",
        "    j = 0\n",
        "    while j <= steps:\n",
        "        # re-constructure routes\n",
        "        [population[i].route_construction(dimensions,tau,alpha,beta,n_ij,d_ij) for i in range(pop)]\n",
        "\n",
        "        # find/update the best solution in the population\n",
        "        iter_best = min(population, key=lambda population: population.quality)\n",
        "        if iter_best.quality < gbest.quality:\n",
        "            gbest.position = iter_best.position\n",
        "            gbest.quality = iter_best.quality\n",
        "\n",
        "        # pheromone update and evaporation\n",
        "        for i in range(pop):\n",
        "            Dt = np.multiply(population[i].x_ij, (1 / population[i].quality) )\n",
        "            tau = tau + Dt\n",
        "        tau = (1 - rho) * tau\n",
        "\n",
        "        print(\"The best solution in the %d generation is:\" %j,gbest.position,\"with quality:\",gbest.quality)\n",
        "        j += 1\n",
        "\n",
        "ant_colony_optimization()"
      ]
    },
    {
      "cell_type": "markdown",
      "metadata": {
        "id": "GxGbhzONVaNg"
      },
      "source": [
        "In general, Ant Colony Optimization can be modified according to the problem's characteristics (remember what we discussed in the lecture).\n",
        "\n",
        "A crucial step is to define a proper **solution representation**! How does that affect the problem you have picked?\n",
        "\n",
        "Reflect on the modifications you need to perform to develop a proper ACO for your case study."
      ]
    },
    {
      "cell_type": "markdown",
      "metadata": {
        "id": "ice2yCRliad_"
      },
      "source": [
        "<br><br>\n",
        "\n",
        "<table style=\"width:100%\">\n",
        "  <tr>\n",
        "    <td rowspan=\"3\" style=\"width:210px\"><a href=\"https://ju.se/en\"><img src=\"https://upload.wikimedia.org/wikipedia/commons/f/f9/JU_A_sv.jpg\" width=\"200\" align=\"left\"></a></td>\n",
        "    <td><span style=\"font-family:Times New Roman; color:#002080; font-size:18px; text-align:right;\">State-of-the-Art in AI Research</span></td>\n",
        "    </tr>\n",
        "    <tr>\n",
        "      <td><span style=\"font-family:Times New Roman; font-size:16px; text-align:right;\">Seminar 5: Swarm Intelligence - hands-on experience on Ant Colony Optimization (ACO)</span></td>\n",
        "    </tr>\n",
        "    <tr>\n",
        "      <td><span style=\"font-family:Times New Roman; font-size:16px; text-align:right;\">HT2023</span></td>\n",
        "    </tr>\n",
        "</table>"
      ]
    }
  ],
  "metadata": {
    "colab": {
      "provenance": []
    },
    "kernelspec": {
      "display_name": "Python 3",
      "name": "python3"
    },
    "language_info": {
      "codemirror_mode": {
        "name": "ipython",
        "version": 3
      },
      "file_extension": ".py",
      "mimetype": "text/x-python",
      "name": "python",
      "nbconvert_exporter": "python",
      "pygments_lexer": "ipython3",
      "version": "3.10.6"
    }
  },
  "nbformat": 4,
  "nbformat_minor": 0
}
